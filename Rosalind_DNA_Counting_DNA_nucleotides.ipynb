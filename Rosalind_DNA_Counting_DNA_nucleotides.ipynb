{
  "nbformat": 4,
  "nbformat_minor": 0,
  "metadata": {
    "colab": {
      "name": "Rosalind Counting DNA nucleotides",
      "provenance": [],
      "collapsed_sections": []
    },
    "kernelspec": {
      "name": "python3",
      "display_name": "Python 3"
    }
  },
  "cells": [
    {
      "cell_type": "markdown",
      "metadata": {
        "id": "5-Kzln1Jl6Ux"
      },
      "source": [
        "Exercício em http://rosalind.info/problems/dna/\n",
        "\n",
        "Resolvido por Guilherme Silveira\n",
        "\n",
        "Aprendendo biologia com a Vanessa Leiko Cardoso"
      ]
    },
    {
      "cell_type": "code",
      "metadata": {
        "id": "MVd7uj8qPuvt"
      },
      "source": [
        "dna_sequence = \"ATTACATCAGCTAGATGAGAGCCGGAGCCCTTTCTAACCGGGATCACCGTGCCGACCGCTGGTAGGCGAGGGGGGCCATATGCTACAGATCAAATGGCCATCACCGTTTCCTCGGGTCGCCTTTGGTGTTGTCATGTTCACACGTTCCCGTCTCTGATTCGCGTAGACTATATGAAACCGGGCTGGGGAGAGCGCCCGTATTGAGTAAGTAAGCAAATTTAACTGTGAAGACCGTAAGGGAGTCACGCCATGCGCCTCTGGTCCGATGGTAAGTACCATCCTGACTCTAATGAGGCTGCAGAACGTCTATAGCACCACTCCATGTTACAATCTACTGGTCCAGGTGTTAGGTGGTCTGAACCTCATAAGAGGGTTATTTCACGAAGACCTGTAGTCCTGTTAGAGCCCATGCCACACCAGTGTTCCAATCTCTCCCGTCGTCCCGCCGCGTTACCATTATAGCGATGCGATCAATTCTCAAATGTAACTGATAGGAGTTGTGAATTTTGCACCGCGTTTACTTAATCGACGGCTGGACCGTAACCTTATCCCGGCGACAGACGGGGAACGAGAAGAGTGCTGACGGAGCTTTGACGGTGTCGCAGGTGCAGGCTCCTCGACGCCCGTCATTTTATAAGGTCTTATCCGGTCAATTGAGAACTGAGAACATGACGCCTACCCGAACTACTTTTTGGGCAATATCCTACGGCAACGAGACCGGGGGTGTTGTACGCTACCATATATCCACTCGATGGTTAGCCTGGTCCGTCTATCGTAATATCGGTCGTGGAAGAAATCTCTTGCACTCTACGGCTAAGGGCTCCATATATCTAATGGAGTCAATATCCGCGATCAC\"\n",
        "\n",
        "# AT\n",
        "# GC"
      ],
      "execution_count": null,
      "outputs": []
    },
    {
      "cell_type": "code",
      "metadata": {
        "colab": {
          "base_uri": "https://localhost:8080/"
        },
        "id": "fR2WQiWiP16a",
        "outputId": "27ee45c2-0a42-4239-a026-baf8d5b74cfa"
      },
      "source": [
        "from collections import defaultdict\n",
        "\n",
        "mapa = defaultdict(int)\n",
        "for x in dna_sequence:\n",
        "  mapa[x] += 1\n",
        "mapa\n",
        "\n",
        "# O(N)"
      ],
      "execution_count": null,
      "outputs": [
        {
          "output_type": "execute_result",
          "data": {
            "text/plain": [
              "defaultdict(int, {'A': 202, 'C': 220, 'G': 218, 'T': 216})"
            ]
          },
          "metadata": {
            "tags": []
          },
          "execution_count": 19
        }
      ]
    },
    {
      "cell_type": "code",
      "metadata": {
        "colab": {
          "base_uri": "https://localhost:8080/"
        },
        "id": "BDWRCWGNQfvo",
        "outputId": "18f3ce14-779f-4faa-ba2e-f66874be82c8"
      },
      "source": [
        "from collections import Counter\n",
        "\n",
        "mapa = Counter(dna_sequence)\n",
        "mapa\n",
        "\n",
        "# O(N)"
      ],
      "execution_count": null,
      "outputs": [
        {
          "output_type": "execute_result",
          "data": {
            "text/plain": [
              "Counter({'A': 202, 'C': 220, 'G': 218, 'T': 216})"
            ]
          },
          "metadata": {
            "tags": []
          },
          "execution_count": 20
        }
      ]
    },
    {
      "cell_type": "code",
      "metadata": {
        "colab": {
          "base_uri": "https://localhost:8080/"
        },
        "id": "rUjFER_GQuI5",
        "outputId": "94948872-a962-49c3-ccf1-a29edae719cf"
      },
      "source": [
        "count_a = dna_sequence.count('A')\n",
        "count_c = dna_sequence.count('C')\n",
        "count_g = dna_sequence.count('G')\n",
        "count_t = dna_sequence.count('T')\n",
        "print(count_a,count_c,count_g,count_t)\n",
        "\n",
        "# ~12 bilhoes de operacoes\n",
        "\n",
        "# 100 milhoes de operacoes por segundo\n",
        "# N = 3 bi ==> 30 segundos\n",
        "# 4*N = 12 bi ==> 120 segundos\n",
        "\n",
        "#            100     3bi\n",
        "# O(N)       100     3bi\n",
        "# O(N^2)     10000   1 quinquilhao (semi-infinito)"
      ],
      "execution_count": null,
      "outputs": [
        {
          "output_type": "stream",
          "text": [
            "202 220 218 216\n"
          ],
          "name": "stdout"
        }
      ]
    },
    {
      "cell_type": "code",
      "metadata": {
        "id": "xXsacJyuQ7Dn"
      },
      "source": [
        "# 1 cromossomo humano = 46 milhoes de bases\n",
        "# 3 bilhoes no genoma humano"
      ],
      "execution_count": null,
      "outputs": []
    }
  ]
}
