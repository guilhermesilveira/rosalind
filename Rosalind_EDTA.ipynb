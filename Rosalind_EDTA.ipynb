{
  "nbformat": 4,
  "nbformat_minor": 0,
  "metadata": {
    "colab": {
      "name": "Rosalind EDTA",
      "provenance": [],
      "collapsed_sections": []
    },
    "kernelspec": {
      "name": "python3",
      "display_name": "Python 3"
    }
  },
  "cells": [
    {
      "cell_type": "code",
      "metadata": {
        "colab": {
          "base_uri": "https://localhost:8080/"
        },
        "id": "4zhWHY7jSmLO",
        "outputId": "3e1d1d31-26a2-4234-d8c7-bb1d5fc40a07"
      },
      "source": [
        "!pip install biopython"
      ],
      "execution_count": null,
      "outputs": [
        {
          "output_type": "stream",
          "text": [
            "Collecting biopython\n",
            "\u001b[?25l  Downloading https://files.pythonhosted.org/packages/3a/cd/0098eaff841850c01da928c7f509b72fd3e1f51d77b772e24de9e2312471/biopython-1.78-cp37-cp37m-manylinux1_x86_64.whl (2.3MB)\n",
            "\u001b[K     |████████████████████████████████| 2.3MB 5.7MB/s \n",
            "\u001b[?25hRequirement already satisfied: numpy in /usr/local/lib/python3.7/dist-packages (from biopython) (1.19.5)\n",
            "Installing collected packages: biopython\n",
            "Successfully installed biopython-1.78\n"
          ],
          "name": "stdout"
        }
      ]
    },
    {
      "cell_type": "code",
      "metadata": {
        "colab": {
          "base_uri": "https://localhost:8080/"
        },
        "id": "WKrthTc6St9B",
        "outputId": "08002e71-4700-4e1a-e7a4-94e8619028d6"
      },
      "source": [
        "from Bio import SeqIO\r\n",
        "\r\n",
        "from io import StringIO\r\n",
        "\r\n",
        "data = \"\"\">Rosalind_39\r\n",
        "PLEASANTLY\r\n",
        ">Rosalind_11\r\n",
        "MEANLY\"\"\"\r\n",
        "\r\n",
        "elements = list(SeqIO.parse(StringIO(data), \"fasta\"))\r\n",
        "elements"
      ],
      "execution_count": null,
      "outputs": [
        {
          "output_type": "execute_result",
          "data": {
            "text/plain": [
              "[SeqRecord(seq=Seq('PLEASANTLY'), id='Rosalind_39', name='Rosalind_39', description='Rosalind_39', dbxrefs=[]),\n",
              " SeqRecord(seq=Seq('MEANLY'), id='Rosalind_11', name='Rosalind_11', description='Rosalind_11', dbxrefs=[])]"
            ]
          },
          "metadata": {
            "tags": []
          },
          "execution_count": 2
        }
      ]
    },
    {
      "cell_type": "markdown",
      "metadata": {
        "id": "SColHTDITItq"
      },
      "source": [
        "```\r\n",
        "  -CHOCOLATE\r\n",
        "- 0123456789\r\n",
        "C 1?\r\n",
        "O 2\r\n",
        "C 3\r\n",
        "```\r\n",
        "\r\n",
        "min(\r\n",
        "  [i - 1, j] + 1\r\n",
        "  [i, j-1  ] + 1\r\n",
        "  [i - 1, j - 1] + custo_da_troca\r\n",
        ")"
      ]
    },
    {
      "cell_type": "code",
      "metadata": {
        "id": "fYgKzCmES43E"
      },
      "source": [
        "import numpy as np\r\n",
        "\r\n",
        "FROM_UP = 10\r\n",
        "FROM_LEFT = 20\r\n",
        "FROM_DIAGONAL_DIF = 30\r\n",
        "FROM_DIAGONAL_SAME = 40\r\n",
        "\r\n",
        "def get_edit_path(path, seq1, seq2):\r\n",
        "  i, j = len(seq1), len(seq2)\r\n",
        "  content1 = \"\"\r\n",
        "  content2 = \"\"\r\n",
        "  while i!=0 and j!=0:\r\n",
        "    if path[i,j] in [FROM_DIAGONAL_DIF, FROM_DIAGONAL_SAME]:\r\n",
        "      i -= 1\r\n",
        "      j -= 1\r\n",
        "      content1 += seq1[i]\r\n",
        "      content2 += seq2[j]\r\n",
        "    elif path[i,j] == FROM_LEFT:\r\n",
        "      j -= 1\r\n",
        "      content1 += \"-\"\r\n",
        "      content2 += seq2[j]\r\n",
        "    else:\r\n",
        "      i -= 1\r\n",
        "      content1 += seq1[i]\r\n",
        "      content2 += \"-\"\r\n",
        "  return content1[::-1] + \"\\n\" + content2[::-1]\r\n",
        "\r\n",
        "def edit_distance(seq1,seq2):\r\n",
        "  cost = np.zeros((len(seq1) + 1, len(seq2) + 1))\r\n",
        "  path = np.zeros(cost.shape)\r\n",
        "  cost[0] = range(len(seq2) + 1)\r\n",
        "  cost[:,0] = range(len(seq1) + 1)\r\n",
        "  for i in range(1,len(seq1) + 1):\r\n",
        "    for j in range(1,len(seq2) + 1):\r\n",
        "      change_cost = (seq1[i-1] != seq2[j-1])\r\n",
        "      cost[i,j] = min(cost[i-1,j] + 1,\r\n",
        "                      cost[i, j -1] + 1,\r\n",
        "                      cost[i-1, j-1] + change_cost)\r\n",
        "      if cost[i,j] == cost[i-1,j] + 1:\r\n",
        "        path[i,j] = FROM_UP\r\n",
        "      elif cost[i,j] == cost[i, j-1] + 1:\r\n",
        "        path[i,j] = FROM_LEFT\r\n",
        "      elif cost[i,j] == cost[i-1,j-1] + 1:\r\n",
        "        path[i,j] = FROM_DIAGONAL_DIF\r\n",
        "      else:\r\n",
        "        path[i,j] = FROM_DIAGONAL_SAME\r\n",
        "  print(get_edit_path(path, seq1, seq2))\r\n",
        "  return cost[-1,-1]"
      ],
      "execution_count": null,
      "outputs": []
    },
    {
      "cell_type": "code",
      "metadata": {
        "colab": {
          "base_uri": "https://localhost:8080/"
        },
        "id": "BU7DCDz3Uxl6",
        "outputId": "e2dfb2dc-6111-4814-f28f-a37026a0a18f"
      },
      "source": [
        "edit_distance(\"GUILHERME\", \"VANESSA\")"
      ],
      "execution_count": null,
      "outputs": [
        {
          "output_type": "stream",
          "text": [
            "GUILHERME\n",
            "VAN--ESSA\n"
          ],
          "name": "stdout"
        },
        {
          "output_type": "execute_result",
          "data": {
            "text/plain": [
              "8.0"
            ]
          },
          "metadata": {
            "tags": []
          },
          "execution_count": 25
        }
      ]
    },
    {
      "cell_type": "code",
      "metadata": {
        "colab": {
          "base_uri": "https://localhost:8080/"
        },
        "id": "xHZOi0T7UzPB",
        "outputId": "3ed3e997-f36a-49b0-8cf8-f386e9d0cdf3"
      },
      "source": [
        "edit_distance(\"PLEASANTLY\", \"MEANLY\")"
      ],
      "execution_count": null,
      "outputs": [
        {
          "output_type": "stream",
          "text": [
            "PLEASANTLY\n",
            "M-EA--N-LY\n"
          ],
          "name": "stdout"
        },
        {
          "output_type": "execute_result",
          "data": {
            "text/plain": [
              "5.0"
            ]
          },
          "metadata": {
            "tags": []
          },
          "execution_count": 26
        }
      ]
    },
    {
      "cell_type": "code",
      "metadata": {
        "colab": {
          "base_uri": "https://localhost:8080/"
        },
        "id": "6Q4bayK-cC-v",
        "outputId": "91b0990a-f6f8-4c78-cf5c-50df73657da1"
      },
      "source": [
        "edit_distance(\"PRETTY\", \"PRTTEIN\")"
      ],
      "execution_count": null,
      "outputs": [
        {
          "output_type": "stream",
          "text": [
            "PRETTY--\n",
            "PR-TTEIN\n"
          ],
          "name": "stdout"
        },
        {
          "output_type": "execute_result",
          "data": {
            "text/plain": [
              "4.0"
            ]
          },
          "metadata": {
            "tags": []
          },
          "execution_count": 29
        }
      ]
    },
    {
      "cell_type": "code",
      "metadata": {
        "colab": {
          "base_uri": "https://localhost:8080/"
        },
        "id": "lBc4xj-AcGaV",
        "outputId": "d62b25e5-fc9b-4551-e901-48654085cea4"
      },
      "source": [
        "edit_distance(\"PRTTEIN\", \"PRETTY\")"
      ],
      "execution_count": null,
      "outputs": [
        {
          "output_type": "stream",
          "text": [
            "PR-TTEIN\n",
            "PRETTY--\n"
          ],
          "name": "stdout"
        },
        {
          "output_type": "execute_result",
          "data": {
            "text/plain": [
              "4.0"
            ]
          },
          "metadata": {
            "tags": []
          },
          "execution_count": 30
        }
      ]
    },
    {
      "cell_type": "code",
      "metadata": {
        "colab": {
          "base_uri": "https://localhost:8080/"
        },
        "id": "k2Y3I-9yVX4h",
        "outputId": "614cc3fc-c1ed-4e37-8d40-fc47da4d358c"
      },
      "source": [
        "edit_distance(\"MEANLY\", \"PLEASANTLY\")"
      ],
      "execution_count": null,
      "outputs": [
        {
          "output_type": "stream",
          "text": [
            "M-EA--N-LY\n",
            "PLEASANTLY\n"
          ],
          "name": "stdout"
        },
        {
          "output_type": "execute_result",
          "data": {
            "text/plain": [
              "5.0"
            ]
          },
          "metadata": {
            "tags": []
          },
          "execution_count": 31
        }
      ]
    },
    {
      "cell_type": "code",
      "metadata": {
        "colab": {
          "base_uri": "https://localhost:8080/"
        },
        "id": "5tknSOr6VZmg",
        "outputId": "345aac0c-6d24-497a-a7a6-04767c26483b"
      },
      "source": [
        "\r\n",
        "data = \"\"\">Rosalind_5495\r\n",
        "QYCGTIDETGTMQYNLQFKKEDLIDNCLCTCIRVQKQCFNKRSLIVARVPRGPDCIPWCG\r\n",
        "RTQWAIPQQLLYSFPKMQPWEWMKDHHAMWAGLQAIIIHMHAVDNRIQVLPNCMCDSTIP\r\n",
        "CVMKLFNVWLNTSMVEEKPGCACAIECENTVLWGCACSLHKGNDMGTDNQMHTQVNAEYW\r\n",
        "TQSGGNAIHCDSQMWPTWLASVPSTIRQAPKNGIGLHHFSDQEEMDQDGSTIFKCRQHSC\r\n",
        "HVRVVATPPMFRQIPCYQWCCLQYTYGCFRCDQQQTRVWGFDFTMTGRDISDANEDGNRH\r\n",
        "CDRHRSDKPYHVFLQFIPIHLNVCRPTSHCGYIWEDQNGNDQACIQGQMQSSDKALYGIN\r\n",
        "EVISGTMYLDAKPIHMLSNNLMHLSVDSIFYPPNDTEYPHIDKSFWHIRGIYWMAESIMV\r\n",
        "DITYQVIGITGFEQFWRKIKIACTESVWKDSVDATSREWQTEWNIFDYGVPMVTFYAEHK\r\n",
        "NAIWCNWGAERHRERSSHCRHRTTTEYRWARSVFMTGYKEGNAYNNVHDMHALAAESPQG\r\n",
        "WHFQSQLDFFTTGKSEQFDIFRENWWTRPAEFNRTRQMLCRYQKPTVGQCIVWPCQELVT\r\n",
        "MALCDHQTEAMSWGYVACTEHYLKPNLDSYAMDIQWVIILRVWTQTEDTIYHKWMTHWVC\r\n",
        "IPRWELSGITFPSEKYSGWGPLKSHIQTHRILGHSQPVFYIPGDMFFRYGHILMNHFLAY\r\n",
        "DEWDKLTASLYQCGQQWSFFSELPRCEGGMLQENQTTAQFEFDDCIRCYFHMQRENAVFV\r\n",
        "RRPSSNPFIEHILVVCSPESWHKEAGCRYCANRW\r\n",
        ">Rosalind_5907\r\n",
        "QYCGMIDETGTMQYNQQFEDLIDQCLCTCIRVQKQCFNKRSLEGDYCTWCGRTQWAIPEQ\r\n",
        "LLVSFPKHQPWEWMPDHHAMEIAGLQFISIHMTIWDNRIQVPNCVRLKCNSNIPCVMKLF\r\n",
        "NIESRCPISWLVCARLEMQCKPGWCYTAIECTVFPPIWGCACSLHKGNDMRTDNYDSGGN\r\n",
        "ASHCDSQMWPTWLASHHAHNCGTIRQAPWYNGIGLHFFSDQEEMDQDGSTIFKCRQHSCH\r\n",
        "QRPMFRQIIWCYTYGCFRCDSQQTVKYKEKVWGFDETMTGTDISDANEDGNRHCNPRHRS\r\n",
        "DKPYHVGHGTFSPCLQFIPIHLNVCRPTWHCLYIWEDQNGTHFRAESSYDQACGQFQMMS\r\n",
        "SDKSGVPYLDAKPIHMLAPKIKPSRLWPNLPLDTCFMASHWHIRHICYRLQTDHQIQNDM\r\n",
        "VDITYQVIYITGFEQFWRPIKIACTEVVWKWYAVSVSATSMISPCWEWQTEWNTFYAEHK\r\n",
        "NNWGAERHIVGLSFRYLFTPRWAFNWHRGALTALAAHSPQGWHRQSQLDFFETGKSEQFD\r\n",
        "ITREAWWTRIKRGDWNRTRQMWECRYQKRTVGQCIVWPCFTAELVTMAMCEGYNNPHQVE\r\n",
        "AMSWGYVACTFHYLKPNLDSYAMVTWHIQWVIIEDTTHWVGITFPSEWGPGKQHIQTHRI\r\n",
        "LIHSQPVFYIPGHAMDWKIFRLSWYNHFLALTASPRDNYYEFSELPRCRNGMLQFNHDDC\r\n",
        "FRCYFHMQRSNAVFVARPKGNPMTQGKTGIEHILVVCSPDAARAGCRYCANRV\"\"\"\r\n",
        "\r\n",
        "elements = list(SeqIO.parse(StringIO(data), \"fasta\"))\r\n",
        "edit_distance(elements[0].seq, elements[1].seq)"
      ],
      "execution_count": null,
      "outputs": [
        {
          "output_type": "stream",
          "text": [
            "QYCGTIDETGTMQYNLQFKKEDLIDNCLCTCIRVQKQCFNKRSLIVARVPRGPD-CIPWCGRTQWAIPQQLLYSFPKMQPWEWMKDHHAMW-AGLQAIIIHMHAVDNRIQVLPNCM---CDSTIPCVMKLFNVWLNT--SM-VE---E---KPG-CACAIECENTVL---WGCACSLHKGNDMGTDNQMHTQVNAEYWTQSGGNAIHCDSQMWPTWLASVPS----TIRQAPK-NGIGLHHFSDQEEMDQDGSTIFKCRQHSCHVRVVATPPMFRQIPCYQWCCLQYTYGCFRCDQQQTR-----VWGFDFTMTGRDISDANEDGNRHCD-RHRSDKPYHV----F---LQFIPIHLNVCRPTSHCGYIWEDQNGN--------DQACIQGQMQSSDKALYGINEVISGTMYLDAKPIHMLSNNLMHLSVDSIFYPPNDTEYPHIDKSFWHIRGI-YWMAES--I---MVDITYQVIGITGFEQFWRKIKIACTESVWKD---SVDATSR-----EWQTEWNIFDYGVPMVTFYAEHKNAIWCNWGAERHRERSSHCRHRTTTEYRWARSVFMTGYKEGNAYNNVHDMHALAAESPQGWHFQSQLDFFTTGKSEQFDIFRENWWTRPAEF--NRTRQML-CRYQKPTVGQCIVWPCQ--ELVTMALCD-----HQTEAMSWGYVACTEHYLKPNLDSYAMD---IQWVIILRVWTQTEDTIYHKWMTHWVCIPRWELSGITFPSEKYSGWGPLKSHIQTHRILGHSQPVFYIPGD-MF---FRYGHILMNHFLAYDEWDKLTASLYQCGQQWSFFSELPRCEGGMLQENQTTAQFEFDDCIRCYFHMQRENAVFVRRPSSNPF------IEHILVVCSPESWHKEAGCRYCANRW\n",
            "QYCGMIDETGTMQYNQQF--EDLIDQCLCTCIRVQKQCFNKRSLE------G-DYCT-WCGRTQWAIPEQLLVSFPKHQPWEWMPDHHAMEIAGLQFISIHMTIWDNRIQV-PNCVRLKCNSNIPCVMKLFNIESRCPISWLVCARLEMQCKPGWCYTAIEC--TVFPPIWGCACSLHKGNDMRTDN---------YD--SGGNASHCDSQMWPTWLASHHAHNCGTIRQAPWYNGIGLHFFSDQEEMDQDGSTIFKCRQHSCHQR----P-MFRQII---WC---YTYGCFRCDSQQTVKYKEKVWGFDETMTGTDISDANEDGNRHCNPRHRSDKPYHVGHGTFSPCLQFIPIHLNVCRPTWHCLYIWEDQNGTHFRAESSYDQACGQFQMMSSDKS--G---VP----YLDAKPIHMLAPKIKP-SRLWPNLPL-DTCFMA---SHWHIRHICYRLQTDHQIQNDMVDITYQVIYITGFEQFWRPIKIACTEVVWKWYAVSVSATSMISPCWEWQTEWN---------TFYAEHKN----NWGAERHIVGLSF-RYLFTP--RWA---FNWHR--G-ALT------ALAAHSPQGWHRQSQLDFFETGKSEQFDITREAWWTRIKRGDWNRTRQMWECRYQKRTVGQCIVWPCFTAELVTMAMCEGYNNPHQVEAMSWGYVACTFHYLKPNLDSYAMVTWHIQWVII-------EDT------THWV--------GITFPSE----WGPGKQHIQTHRILIHSQPVFYIPGHAMDWKIFRLSWY--NHFLA------LTASPRDNYYE--F-SELPRCRNGMLQFNH-------DDCFRCYFHMQRSNAVFVARPKGNPMTQGKTGIEHILVVCSPDAAR--AGCRYCANRV\n"
          ],
          "name": "stdout"
        },
        {
          "output_type": "execute_result",
          "data": {
            "text/plain": [
              "347.0"
            ]
          },
          "metadata": {
            "tags": []
          },
          "execution_count": 33
        }
      ]
    },
    {
      "cell_type": "code",
      "metadata": {
        "id": "fQu60m2EVq55",
        "colab": {
          "base_uri": "https://localhost:8080/"
        },
        "outputId": "82522728-2f46-4e37-b8e7-f1d4d7880076"
      },
      "source": [
        "x = 15\r\n",
        "y = 27\r\n",
        "z = x + y\r\n",
        "print(z)"
      ],
      "execution_count": null,
      "outputs": [
        {
          "output_type": "stream",
          "text": [
            "42\n"
          ],
          "name": "stdout"
        }
      ]
    },
    {
      "cell_type": "markdown",
      "metadata": {
        "id": "RhTbEFNRdba8"
      },
      "source": [
        "```\r\n",
        "0 => literal\r\n",
        "1 => armazena\r\n",
        "2 => sempre soma 0 e 1 e armazena o resultado na posicao 0\r\n",
        "3 => imprimir\r\n",
        "\r\n",
        "0 15\r\n",
        "1 0\r\n",
        "0 27\r\n",
        "1 1\r\n",
        "2\r\n",
        "3 0\r\n",
        "```"
      ]
    },
    {
      "cell_type": "code",
      "metadata": {
        "id": "3VjkMfnrdYce"
      },
      "source": [
        "\r\n"
      ],
      "execution_count": null,
      "outputs": []
    }
  ]
}