{
  "nbformat": 4,
  "nbformat_minor": 0,
  "metadata": {
    "colab": {
      "name": "Rosalind SUBS Finding a Motif in DNA",
      "provenance": [],
      "collapsed_sections": []
    },
    "kernelspec": {
      "name": "python3",
      "display_name": "Python 3"
    }
  },
  "cells": [
    {
      "cell_type": "markdown",
      "metadata": {
        "id": "6fUfzONpmkpQ"
      },
      "source": [
        "Exercício em http://rosalind.info/problems/subs/\n",
        "\n",
        "Resolvido por Guilherme Silveira\n",
        "\n",
        "Aprendendo biologia com a Vanessa Leiko Cardoso"
      ]
    },
    {
      "cell_type": "code",
      "metadata": {
        "id": "hye52dhcht4C"
      },
      "source": [
        "dna = \"GGCGCAAGTGCGCAAGGTTCCTCGCGCAAGAGCTGCGCAAGGCGCAAGGCGCAAGCAGCGCAAGCGCAGAGCGCAAGATTGCGCAAGTCACCGCGCAAGGCGCAAGTCGCGCAAGGCGCAAGGGCGCAAGGCGCGCAAGGCGCAAGTGCGCAAGGTGCGCAAGCCACGTGCGCAAGTGCGCAAGCCGGCGCAAGCATCTTTGGCGCGCAAGCACAGCAGCGCAAGCCACTTTGTAGCGCAAGGTCTGGTTGCGCAAGGGGCGCAAGTTTGGTGCGCAAGAGCGCAAGTGATGCGCAAGACGCGCAAGGCGCAAGGGCGCAAGGCGACCGCGCAAGTTAGGGCGCAAGGCGCAAGTGCGCAAGTTGCGCAAGCGTGCGCAAGGCGCAAGCTGCGCGCAAGGTGCGCAAGTGGGCGCAAGGCGCAAGTATACTTGAACCACGAAGTTACTGATGCGCAAGTGGCGCAAGTGGGCGCAAGGCGCAAGTGAGCGCGCAAGGCGCAAGCGCGCAAGGCGCAAGGCGCAAGAGCGCAAGACAAGTGCGCAAGTCTGCCGCGCAAGGCGCAAGCATGCGCAAGGGCGCAAGCTGGCGCAAGGCGCAAGTTACGCGCAAGTACGAAGATGCGCAAGGCGCAAGAGGGCGCAAGAAGCGCAAGTGCGCAAGTTTGCGCAAGTCACGGGCGCAAGAGCGCAAGTCGCGCAAGACGCGCAAGTACGCGCAAGGGCGCAAGTGGCGCAAGGTAGCGCAAGTCGCGCAAGTGCGCAAGTACTGCCCTATGCGCAAGAAGCGCAAGCTTAGCGCAAGGCGCAAGGGCCGGCTGGCGCAAGTTGCGCAAGGTCGCGCAAGGCGCAAGGGCGCAAGGCGCAAGGCGCAAGGTCCACGCGCAAGGCGCAAGGCGCAAGTTGCGCAAGTGAGCGCAAGAGCGCGCAAGCTAGGCGCAAGGC\"\n",
        "motif = \"GCGCAAGGC\"\n"
      ],
      "execution_count": null,
      "outputs": []
    },
    {
      "cell_type": "code",
      "metadata": {
        "colab": {
          "base_uri": "https://localhost:8080/",
          "height": 35
        },
        "id": "3kGNBhnih0Uk",
        "outputId": "3a69a866-b33c-478e-f77d-ff7f0bf11946"
      },
      "source": [
        "positions = []\n",
        "for i in range(len(dna) - len(motif) + 1):\n",
        "  if dna[i : i+len(motif)]==motif:\n",
        "    positions.append(str(i + 1))\n",
        "\" \".join(positions)\n",
        "# O(N*M)"
      ],
      "execution_count": null,
      "outputs": [
        {
          "output_type": "execute_result",
          "data": {
            "application/vnd.google.colaboratory.intrinsic+json": {
              "type": "string"
            },
            "text/plain": [
              "'35 42 93 109 124 133 301 316 341 375 412 471 490 505 512 553 588 622 797 839 854 861 881 888 935'"
            ]
          },
          "metadata": {
            "tags": []
          },
          "execution_count": 18
        }
      ]
    },
    {
      "cell_type": "code",
      "metadata": {
        "id": "zgUoztOnh5H-"
      },
      "source": [
        ""
      ],
      "execution_count": null,
      "outputs": []
    }
  ]
}