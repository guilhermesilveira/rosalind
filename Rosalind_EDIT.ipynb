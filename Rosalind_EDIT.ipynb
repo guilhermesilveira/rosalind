{
  "nbformat": 4,
  "nbformat_minor": 0,
  "metadata": {
    "colab": {
      "name": "Rosalind EDIT",
      "provenance": [],
      "collapsed_sections": []
    },
    "kernelspec": {
      "name": "python3",
      "display_name": "Python 3"
    }
  },
  "cells": [
    {
      "cell_type": "code",
      "metadata": {
        "colab": {
          "base_uri": "https://localhost:8080/"
        },
        "id": "4zhWHY7jSmLO",
        "outputId": "2bae9302-835f-449e-d651-c58e680ccca6"
      },
      "source": [
        "!pip install biopython"
      ],
      "execution_count": null,
      "outputs": [
        {
          "output_type": "stream",
          "text": [
            "Collecting biopython\n",
            "\u001b[?25l  Downloading https://files.pythonhosted.org/packages/3a/cd/0098eaff841850c01da928c7f509b72fd3e1f51d77b772e24de9e2312471/biopython-1.78-cp37-cp37m-manylinux1_x86_64.whl (2.3MB)\n",
            "\u001b[K     |████████████████████████████████| 2.3MB 9.0MB/s \n",
            "\u001b[?25hRequirement already satisfied: numpy in /usr/local/lib/python3.7/dist-packages (from biopython) (1.19.5)\n",
            "Installing collected packages: biopython\n",
            "Successfully installed biopython-1.78\n"
          ],
          "name": "stdout"
        }
      ]
    },
    {
      "cell_type": "code",
      "metadata": {
        "colab": {
          "base_uri": "https://localhost:8080/"
        },
        "id": "WKrthTc6St9B",
        "outputId": "da39d217-46d8-4041-f98a-96244b13e9b1"
      },
      "source": [
        "from Bio import SeqIO\r\n",
        "\r\n",
        "from io import StringIO\r\n",
        "\r\n",
        "data = \"\"\">Rosalind_39\r\n",
        "PLEASANTLY\r\n",
        ">Rosalind_11\r\n",
        "MEANLY\"\"\"\r\n",
        "\r\n",
        "elements = list(SeqIO.parse(StringIO(data), \"fasta\"))\r\n",
        "elements"
      ],
      "execution_count": null,
      "outputs": [
        {
          "output_type": "execute_result",
          "data": {
            "text/plain": [
              "[SeqRecord(seq=Seq('PLEASANTLY'), id='Rosalind_39', name='Rosalind_39', description='Rosalind_39', dbxrefs=[]),\n",
              " SeqRecord(seq=Seq('MEANLY'), id='Rosalind_11', name='Rosalind_11', description='Rosalind_11', dbxrefs=[])]"
            ]
          },
          "metadata": {
            "tags": []
          },
          "execution_count": 2
        }
      ]
    },
    {
      "cell_type": "markdown",
      "metadata": {
        "id": "SColHTDITItq"
      },
      "source": [
        "```\r\n",
        "  -CHOCOLATE\r\n",
        "- 0123456789\r\n",
        "C 1?\r\n",
        "O 2\r\n",
        "C 3\r\n",
        "```\r\n",
        "\r\n",
        "min(\r\n",
        "  [i - 1, j] + 1\r\n",
        "  [i, j-1  ] + 1\r\n",
        "  [i - 1, j - 1] + custo_da_troca\r\n",
        ")"
      ]
    },
    {
      "cell_type": "code",
      "metadata": {
        "id": "fYgKzCmES43E"
      },
      "source": [
        "import numpy as np\r\n",
        "\r\n",
        "def edit_distance(seq1,seq2):\r\n",
        "  cost = np.zeros((len(seq1) + 1, len(seq2) + 1))\r\n",
        "  cost[0] = range(len(seq2) + 1)\r\n",
        "  cost[:,0] = range(len(seq1) + 1)\r\n",
        "  for i in range(1,len(seq1) + 1):\r\n",
        "    for j in range(1,len(seq2) + 1):\r\n",
        "      change_cost = (seq1[i-1] != seq2[j-1])\r\n",
        "      cost[i,j] = min(cost[i-1,j] + 1,\r\n",
        "                      cost[i, j -1] + 1,\r\n",
        "                      cost[i-1, j-1] + change_cost)\r\n",
        "  return cost[-1,-1]"
      ],
      "execution_count": null,
      "outputs": []
    },
    {
      "cell_type": "code",
      "metadata": {
        "colab": {
          "base_uri": "https://localhost:8080/"
        },
        "id": "BU7DCDz3Uxl6",
        "outputId": "07a47eb9-32cc-4e84-8ee9-0084ade1480d"
      },
      "source": [
        "edit_distance(\"GUILHERME\", \"VANESSA\")"
      ],
      "execution_count": null,
      "outputs": [
        {
          "output_type": "execute_result",
          "data": {
            "text/plain": [
              "8.0"
            ]
          },
          "metadata": {
            "tags": []
          },
          "execution_count": 23
        }
      ]
    },
    {
      "cell_type": "code",
      "metadata": {
        "colab": {
          "base_uri": "https://localhost:8080/"
        },
        "id": "xHZOi0T7UzPB",
        "outputId": "b4983b13-202b-4907-884e-602334617c3b"
      },
      "source": [
        "edit_distance(\"PLEASANTLY\", \"MEANLY\")"
      ],
      "execution_count": null,
      "outputs": [
        {
          "output_type": "execute_result",
          "data": {
            "text/plain": [
              "5.0"
            ]
          },
          "metadata": {
            "tags": []
          },
          "execution_count": 24
        }
      ]
    },
    {
      "cell_type": "code",
      "metadata": {
        "colab": {
          "base_uri": "https://localhost:8080/"
        },
        "id": "k2Y3I-9yVX4h",
        "outputId": "8e6f51ac-28b3-4428-9221-09ee43be0f7c"
      },
      "source": [
        "edit_distance(\"MEANLY\", \"PLEASANTLY\")"
      ],
      "execution_count": null,
      "outputs": [
        {
          "output_type": "execute_result",
          "data": {
            "text/plain": [
              "5.0"
            ]
          },
          "metadata": {
            "tags": []
          },
          "execution_count": 25
        }
      ]
    },
    {
      "cell_type": "code",
      "metadata": {
        "colab": {
          "base_uri": "https://localhost:8080/"
        },
        "id": "5tknSOr6VZmg",
        "outputId": "b0ee09f8-c790-45e8-8b09-c806987687e9"
      },
      "source": [
        "\r\n",
        "data = \"\"\">Rosalind_2094\r\n",
        "EYINEELSKKSYIMGMRIICCQDCFGCKHIQMNPDYITWGGESVREICICISIAHRFDRN\r\n",
        "QGMCEFCHTCMWQVDILNQPWPSHEIVDGMKFINNHEVADVVDIIHHICMLSDFIKDYAF\r\n",
        "LFMTMNCYMIRVLFHCQPCVGTDEWNLHPHRLTFTPFHSEISQGHGVMFRMSHDWRCNHY\r\n",
        "HCRTRMSEWQMGPGSWCEGPRPYLHWTDMLLDCVFNLKRQCMLHFCTSGGVESDRYNFYN\r\n",
        "REFLKPMFIQQRLMVMFRYAHDVLCLAVIMEEDKANADPGRDYSAWRSINSPNFQDERVD\r\n",
        "CCFIHDAQTIQPHGCDDMRHNIWRMSFVLWCAMNFCLRPVGDSDQEPYEHYVVMYFMWYP\r\n",
        "WGDMEKYAFHLKIRGWKCTPKQRACSIFHRCTDMWMHVNETTGEAEDQANWYRWPPAYSK\r\n",
        "EGFKFPAEPDYYEMTDLLDITMMQNWIDSGMNPDMLSDASGHEPWNHACHMWPDIDYSKR\r\n",
        "MNSYHKNCLDETWPGWGHYRICKPVPHTHWKPCMPVMCENMMQNQALLEGKCADMFCCGV\r\n",
        "RLYVQKFFLFKANKQEKFRCYMNQTEVRVNWQHPRYETNQMEIGAWLATSNYGFKPNFAC\r\n",
        "NFFRPTCDRHCQFPIRAPWYHQTPCRSDYMETTMTSMFQKIIKLAHLCCFALWTHPQIHT\r\n",
        "YLTVVDWMGFKGHDKNGIWKYAKFWEFTNKKEHWRIDMNFPPEEMINTYKMAGLAYDAVN\r\n",
        "F\r\n",
        ">Rosalind_3813\r\n",
        "EYISEELSKCSWIMGPNFQHRCPPRIICCQDCFGCKHIQMNPTRPFDYWQTWGGESCPII\r\n",
        "CICCEFCHAHCLPPFTCMWQVDILNIHDGMKFINNHEVWRSQKLVQGVSDIIHHICHLVN\r\n",
        "DFIKDYAELFMTMNCYMIRNLDHCQPCVGTDRCSYMDVLTFTPFHSEIRQGHGQRCVRNA\r\n",
        "IMFRMRCHDSFLDTYIHDDMPFFTPGSWCEGERPPEHWWGHPHKDMLLNFNHDKIPIWSC\r\n",
        "CMLRFCTSGGVESDRYNFCAMAASEMLKPMFIQQRLMCWDMFGYAHDVLCLADMIMEEDK\r\n",
        "PNNDWWYSAGRSINSPMKYAIDHYNVDCCFIMIVSKDFQTIQPHGADDMREASMSFVLWC\r\n",
        "ALNFCLRPVGDICMEPYYHYWYGWMVKYAFHLKIHGWKCTPKQRSIFWRCTDMWNNRSTH\r\n",
        "VCETTGEFEDQANWTYFRDDYRWPVAYSKEPFKLPHVSFPIEPDYTDKLDITMMQEPCLC\r\n",
        "FCASYIDSGENPMLSDASGHQTRAFWACHMPDGINCLQETWPGWGHYRICKSVFGCQDWK\r\n",
        "PDMPVGYNIQHHRTMHHMSQNYALLEGKCADMFCCGRYNFKSTRLYVQKFFLFKANKQFC\r\n",
        "TTSCYGMKFRCNQTEVRVNFTGAWLATSNYWGGFFKPNFEVNFFVPTCDRHCQAPIRAKC\r\n",
        "EQCNWNVNYHHDEVHAPDLTPCRSDYMVGKITKLAHTWYTHPDEAIRHLARTYLTVWWFF\r\n",
        "YDNVSMGFNGHDMNGIWKWAKFWRVQQMDQGCRRICMNFPPEEMIFNEHHCYGRLKMAFL\r\n",
        "AYDAVNF\"\"\"\r\n",
        "\r\n",
        "elements = list(SeqIO.parse(StringIO(data), \"fasta\"))\r\n",
        "edit_distance(elements[0].seq, elements[1].seq)"
      ],
      "execution_count": null,
      "outputs": [
        {
          "output_type": "execute_result",
          "data": {
            "text/plain": [
              "359.0"
            ]
          },
          "metadata": {
            "tags": []
          },
          "execution_count": 26
        }
      ]
    },
    {
      "cell_type": "code",
      "metadata": {
        "id": "fQu60m2EVq55"
      },
      "source": [
        ""
      ],
      "execution_count": null,
      "outputs": []
    }
  ]
}